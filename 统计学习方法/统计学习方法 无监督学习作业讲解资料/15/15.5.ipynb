{
 "cells": [
  {
   "cell_type": "code",
   "execution_count": 1,
   "metadata": {},
   "outputs": [
    {
     "name": "stdout",
     "output_type": "stream",
     "text": [
      "u\n",
      "[[-0.4472136  -0.89442719  0.        ]\n",
      " [-0.89442719  0.4472136   0.        ]\n",
      " [ 0.          0.          1.        ]]\n",
      "sigma\n",
      "[3.16227766e+00 1.57009246e-16]\n",
      "[[3.16227766e+00 0.00000000e+00]\n",
      " [0.00000000e+00 1.57009246e-16]]\n",
      "vt\n",
      "[[-0.70710678 -0.70710678]\n",
      " [-0.70710678  0.70710678]]\n"
     ]
    }
   ],
   "source": [
    "#15.5 P283\n",
    "import numpy as np\n",
    " \n",
    "Data=np.mat([[1,1],  \n",
    "             [2,2],  \n",
    "             [0,0]])\n",
    " \n",
    "u,sigma,vt=np.linalg.svd(Data)\n",
    "print(\"u\")\n",
    "print(u)\n",
    "print(\"sigma\")\n",
    "print(sigma)\n",
    "#转换为对角矩阵\n",
    "diagv=np.mat([[sigma[0],0],[0,sigma[1]]])  \n",
    "print(diagv)\n",
    "print(\"vt\")\n",
    "print(vt)"
   ]
  }
 ],
 "metadata": {
  "kernelspec": {
   "display_name": "Python 3",
   "language": "python",
   "name": "python3"
  },
  "language_info": {
   "codemirror_mode": {
    "name": "ipython",
    "version": 3
   },
   "file_extension": ".py",
   "mimetype": "text/x-python",
   "name": "python",
   "nbconvert_exporter": "python",
   "pygments_lexer": "ipython3",
   "version": "3.6.4"
  }
 },
 "nbformat": 4,
 "nbformat_minor": 4
}
