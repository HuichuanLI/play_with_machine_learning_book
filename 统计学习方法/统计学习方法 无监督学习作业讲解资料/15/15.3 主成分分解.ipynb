{
 "cells": [
  {
   "cell_type": "code",
   "execution_count": null,
   "metadata": {},
   "outputs": [],
   "source": [
    "#15.1\n",
    "import numpy as np\n",
    " \n",
    "Data=np.mat([[1,2,0],  \n",
    "             [2,0,2]])\n",
    " \n",
    "u,sigma,vt=np.linalg.svd(Data)\n",
    "print(\"u\")\n",
    "print(u)\n",
    "print(\"sigma\")\n",
    "print(sigma)\n",
    "#转换为对角矩阵\n",
    "diagv=np.mat([[sigma[0],0,0],[0,sigma[1],0]])  \n",
    "print(diagv)\n",
    "print(\"vt\")\n",
    "print(vt)"
   ]
  },
  {
   "cell_type": "code",
   "execution_count": null,
   "metadata": {},
   "outputs": [],
   "source": [
    "#15.2\n",
    "#\n",
    "import numpy as np\n",
    " \n",
    "Data=np.mat([[2,4],  \n",
    "             [1,3],  \n",
    "             [0,0],  \n",
    "             [0,0]])\n",
    " \n",
    "u,sigma,vt=np.linalg.svd(Data)\n",
    "print(\"u\")\n",
    "print(u)\n",
    "print(\"sigma\")\n",
    "print(sigma)\n",
    "#转换为对角矩阵\n",
    "diagv=np.mat([[sigma[0],0],[0,sigma[1]]])  \n",
    "print(diagv)\n",
    "print(\"vt\")\n",
    "print(vt)"
   ]
  },
  {
   "cell_type": "code",
   "execution_count": null,
   "metadata": {},
   "outputs": [],
   "source": []
  },
  {
   "cell_type": "code",
   "execution_count": null,
   "metadata": {},
   "outputs": [],
   "source": []
  }
 ],
 "metadata": {
  "kernelspec": {
   "display_name": "Python 3",
   "language": "python",
   "name": "python3"
  },
  "language_info": {
   "codemirror_mode": {
    "name": "ipython",
    "version": 3
   },
   "file_extension": ".py",
   "mimetype": "text/x-python",
   "name": "python",
   "nbconvert_exporter": "python",
   "pygments_lexer": "ipython3",
   "version": "3.6.4"
  }
 },
 "nbformat": 4,
 "nbformat_minor": 4
}
