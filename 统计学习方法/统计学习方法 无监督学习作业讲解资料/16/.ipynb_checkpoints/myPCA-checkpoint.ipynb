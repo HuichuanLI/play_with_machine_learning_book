{
 "cells": [
  {
   "cell_type": "code",
   "execution_count": 1,
   "metadata": {},
   "outputs": [],
   "source": [
    "import numpy as np\n",
    "\n",
    "\n",
    "def myPCA(x, var_contribution_threshold=0.8):\n",
    "    '''\n",
    "    自编程实现主成分分析\n",
    "    x 样本矩阵\n",
    "    var_contribution_threshold 方差贡献率阈值\n",
    "    '''\n",
    "# 样本矩阵减去每列特征的均值\n",
    "    x_zero_mean=(x.T- np.mean(x, axis=1)).T\n",
    "# 计算协方差矩阵\n",
    "    n=x_zero_mean.shape[1]\n",
    "    var=np.sum(x_zero_mean*x_zero_mean, axis=1)/(n-1)\n",
    "# 对样本矩阵进行标准化\n",
    "    x_std=(x_zero_mean.T/var**0.5).T\n",
    "# 计算样本矩阵对应的相关矩阵r\n",
    "    r=x_std.dot(x_std.T)/(x_zero_mean.shape[1]-1)\n",
    "#     对相关矩阵r进行对角化分解\n",
    "    evalue, evector=np.linalg.eig(r)\n",
    "    \n",
    "#     计算方差贡献率\n",
    "    contribution=evalue/np.sum(evalue)\n",
    "    var_accumulative_percent=0.0\n",
    "    for k in range(len(contribution)):\n",
    "        var_accumulative_percent+=contribution[k]\n",
    "        if var_accumulative_percent>=var_contribution_threshold:\n",
    "            break\n",
    "#     计算因子载荷量\n",
    "    n=x.shape[0]\n",
    "    factor = np.mat(np.zeros((n,n)), dtype=float)\n",
    "    for i in range(len(evalue)):\n",
    "        for j in range((len(evector))):\n",
    "            print(evalue[j], evector[i,j], var[i])\n",
    "            factor[i, j] = evalue[j]**0.5*evector[i,j]/var[i]**0.5\n",
    "\n",
    "#     对数据进行降维，取前k个\n",
    "    evalue=evalue[0:k+1]\n",
    "    evector=evector[:, 0:k+1]\n",
    "    contribution=contribution[0:k+1]\n",
    "    factor=factor[0:k+1, :]\n",
    "    y=evector.T.dot(x_std)\n",
    "    \n",
    "    return y, evalue, evector, contribution, factor"
   ]
  },
  {
   "cell_type": "code",
   "execution_count": 2,
   "metadata": {},
   "outputs": [
    {
     "data": {
      "text/plain": [
       "array([[2.21993171, 8.70732306, 2.06719155, 9.18610908, 4.88411189,\n",
       "        6.11743863],\n",
       "       [7.65907856, 5.18417988, 2.96800502, 1.87721229, 0.80741269,\n",
       "        7.38440296],\n",
       "       [4.41309223, 1.58309868, 8.79937031, 2.74086462, 4.14235019,\n",
       "        2.96079933],\n",
       "       [6.28787909, 5.7983781 , 5.99929197, 2.65819118, 2.84685881,\n",
       "        2.53588206],\n",
       "       [3.27563948, 1.44164301, 1.65612861, 9.63930529, 9.60226715,\n",
       "        1.88414656],\n",
       "       [0.24306562, 2.04555546, 6.99843614, 7.79514586, 0.22933092,\n",
       "        5.77662858]])"
      ]
     },
     "execution_count": 2,
     "metadata": {},
     "output_type": "execute_result"
    }
   ],
   "source": [
    "np.random.seed(5)\n",
    "a = 10*np.random.rand(6,6)  \n",
    "a"
   ]
  },
  {
   "cell_type": "code",
   "execution_count": 3,
   "metadata": {},
   "outputs": [
    {
     "data": {
      "text/plain": [
       "array([[2., 3., 3., 4., 5., 7.],\n",
       "       [2., 4., 5., 5., 6., 8.]])"
      ]
     },
     "execution_count": 3,
     "metadata": {},
     "output_type": "execute_result"
    }
   ],
   "source": [
    "x=np.loadtxt('data16-1.txt', dtype=float)\n",
    "x"
   ]
  },
  {
   "cell_type": "code",
   "execution_count": 4,
   "metadata": {},
   "outputs": [
    {
     "name": "stdout",
     "output_type": "stream",
     "text": [
      "1.9503288904374105 0.7071067811865475 3.2\n",
      "0.049671109562589466 -0.7071067811865475 3.2\n",
      "1.9503288904374105 0.7071067811865475 4.0\n",
      "0.049671109562589466 0.7071067811865475 4.0\n",
      "样本主成分值(方差贡献率前100%): \n",
      "[[-1.85122959 -0.7488381  -0.39528471  0.          0.7488381   2.24651429]\n",
      " [-0.27009076  0.04173132  0.39528471  0.         -0.04173132 -0.12519395]]\n",
      "特征值(方差贡献率前100%): \n",
      "[1.95032889 0.04967111]\n",
      "单位向量和主成分的方差贡献率100%: \n",
      "[[ 0.70710678  0.70710678  0.97516445]\n",
      " [-0.70710678  0.70710678  0.02483555]]\n",
      "主成分的因子负载量(方差贡献率前100%): \n",
      "[[ 0.5520316  -0.08809717]\n",
      " [ 0.49375207  0.0787965 ]]\n"
     ]
    }
   ],
   "source": [
    "var_contribution_threshold=1\n",
    "y, evalue, evector, contribution, factor=myPCA(x, var_contribution_threshold)\n",
    "print(\"样本主成分值(方差贡献率前%d%%): \" %(var_contribution_threshold*100))\n",
    "print(y)\n",
    "print(\"特征值(方差贡献率前%d%%): \" %(var_contribution_threshold*100))\n",
    "print(evalue)\n",
    "print(\"单位向量和主成分的(方差贡献率%d%%): \" %(var_contribution_threshold*100))\n",
    "print(np.vstack((evector, contribution)).T)\n",
    "print(\"主成分的因子负载量(方差贡献率前%d%%): \" %(var_contribution_threshold*100))\n",
    "print(factor)"
   ]
  }
 ],
 "metadata": {
  "kernelspec": {
   "display_name": "Python (python36)",
   "language": "python",
   "name": "python36"
  },
  "language_info": {
   "codemirror_mode": {
    "name": "ipython",
    "version": 3
   },
   "file_extension": ".py",
   "mimetype": "text/x-python",
   "name": "python",
   "nbconvert_exporter": "python",
   "pygments_lexer": "ipython3",
   "version": "3.6.10"
  }
 },
 "nbformat": 4,
 "nbformat_minor": 4
}
